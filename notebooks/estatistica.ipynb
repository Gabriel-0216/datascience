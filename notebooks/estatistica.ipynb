{
 "cells": [
  {
   "cell_type": "code",
   "execution_count": 3,
   "metadata": {
    "collapsed": true,
    "pycharm": {
     "name": "#%%\n"
    }
   },
   "outputs": [
    {
     "data": {
      "text/plain": "1.118033988749895"
     },
     "execution_count": 3,
     "metadata": {},
     "output_type": "execute_result"
    }
   ],
   "source": [
    "import numpy as np\n",
    "\n",
    "#A média é o valor que aponta para onde mais se concentram os dados de uma distribuição\n",
    "A = np.array([1,2,3,4])\n",
    "np.mean(A)\n",
    "\n",
    "#O desvio padrão mostra o quanto de variação ou dispersão existe em\n",
    "# relação a média (ou valor esperado)\n",
    "# Um baixo desvio padrão indica que os dados tendem a estar próximos da média\n",
    "# Um alto desvio padrão indica que os dados estão espalhados por uma gama de\n",
    "#valores\n",
    "\n",
    "np.std(A)\n",
    "\n",
    "# Variancia de uma variavel aleatoria é uma medida da sua dispersão estatística\n",
    "# indicando o quão longe em geral os seus valores se encontram do valor\n",
    "# esperado\n",
    "\n",
    "\n"
   ]
  }
 ],
 "metadata": {
  "kernelspec": {
   "display_name": "Python 3",
   "language": "python",
   "name": "python3"
  },
  "language_info": {
   "codemirror_mode": {
    "name": "ipython",
    "version": 2
   },
   "file_extension": ".py",
   "mimetype": "text/x-python",
   "name": "python",
   "nbconvert_exporter": "python",
   "pygments_lexer": "ipython2",
   "version": "2.7.6"
  }
 },
 "nbformat": 4,
 "nbformat_minor": 0
}