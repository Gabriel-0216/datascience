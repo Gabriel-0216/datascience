{
 "cells": [
  {
   "cell_type": "code",
   "execution_count": 14,
   "metadata": {
    "collapsed": true,
    "pycharm": {
     "name": "#%%\n"
    }
   },
   "outputs": [
    {
     "name": "stdout",
     "output_type": "stream",
     "text": [
      "[[1 2 3 4]\n",
      " [1 5 7 8]]\n",
      "(2, 4)\n",
      "[[1. 1. 1.]\n",
      " [1. 1. 1.]]\n",
      "[[ 1  2  3  4]\n",
      " [ 5  6  7  8]\n",
      " [ 9 10 11 12]]\n",
      "12\n"
     ]
    }
   ],
   "source": [
    "import numpy as np\n",
    "#Matriz é um array bi-dimensional\n",
    "matriz = np.array([[1,2,3,4], [1,5,7, 8]])\n",
    "print(matriz)\n",
    "print(matriz.shape)\n",
    "\n",
    "matrizOnes = np.ones((2,3))\n",
    "print(matrizOnes)\n",
    "\n",
    "#Convertendo uma lista de listas para uma matriz bidimensional\n",
    "lista = [[1,2,3,4], [5,6,7,8], [9,10,11,12]]\n",
    "matrizListaListas = np.matrix(lista)\n",
    "print(matrizListaListas)\n",
    "\n",
    "print(matrizListaListas.size)"
   ]
  }
 ],
 "metadata": {
  "kernelspec": {
   "display_name": "Python 3",
   "language": "python",
   "name": "python3"
  },
  "language_info": {
   "codemirror_mode": {
    "name": "ipython",
    "version": 2
   },
   "file_extension": ".py",
   "mimetype": "text/x-python",
   "name": "python",
   "nbconvert_exporter": "python",
   "pygments_lexer": "ipython2",
   "version": "2.7.6"
  }
 },
 "nbformat": 4,
 "nbformat_minor": 0
}