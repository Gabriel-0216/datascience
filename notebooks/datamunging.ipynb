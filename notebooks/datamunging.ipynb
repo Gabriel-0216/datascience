{
 "cells": [
  {
   "cell_type": "markdown",
   "source": [
    "Data munging/wrangling é o processo de converter e mapear dados de um estado bruto em outro formato que permita manipular os dados com ferramentas de mais alto nível, como por exemplo: aplicar algoritmos de Machine Learning\n",
    "\n",
    "Series é um array unidimensional que contem um array de dados e um array de labels, chamado índice"
   ],
   "metadata": {
    "collapsed": false,
    "pycharm": {
     "name": "#%% md\n"
    }
   }
  },
  {
   "cell_type": "code",
   "execution_count": 2,
   "metadata": {
    "collapsed": true,
    "pycharm": {
     "name": "#%%\n"
    }
   },
   "outputs": [
    {
     "name": "stdout",
     "output_type": "stream",
     "text": [
      "a    4\n",
      "b    7\n",
      "c   -5\n",
      "d    3\n",
      "dtype: int64\n"
     ]
    }
   ],
   "source": [
    "import pandas as pd\n",
    "\n",
    "Obj2 = pd.Series([4, 7, -5, 3], index = ['a', 'b', 'c', 'd'])\n",
    "\n",
    "print(Obj2)\n"
   ]
  },
  {
   "cell_type": "markdown",
   "source": [
    "Dataframes representam uma estrutura tabular semelhante a estrutura de uma planilha de Microsoft Excel, contendo uma coleção de colunas em que cada uma pode ser um diferente tipo de valor (numero, string, etc...)\n",
    "\n",
    "Dataframes possuem índices e linhas. Os dados de um dataframe são armazenados em um ou mais blocos bidimensionais, ao invés de listas e dicionarios"
   ],
   "metadata": {
    "collapsed": false,
    "pycharm": {
     "name": "#%% md\n"
    }
   }
  },
  {
   "cell_type": "code",
   "execution_count": 3,
   "outputs": [
    {
     "name": "stdout",
     "output_type": "stream",
     "text": [
      "           Estado   Ano  População\n",
      "0  Santa Catarina  2002       20.4\n",
      "1          Paraná  2003       20.5\n",
      "2           Goiás  2004       10.4\n",
      "3           Bahia  2005       11.4\n",
      "4    Minas Gerais  2006       12.4\n"
     ]
    }
   ],
   "source": [
    "data = {'Estado': ['Santa Catarina', 'Paraná', 'Goiás', 'Bahia', 'Minas Gerais'],\n",
    "        'Ano': [2002, 2003, 2004, 2005, 2006],\n",
    "        'População': [20.4, 20.5, 10.4, 11.4, 12.4]}\n",
    "\n",
    "frame = pd.DataFrame(data)\n",
    "print(frame)"
   ],
   "metadata": {
    "collapsed": false,
    "pycharm": {
     "name": "#%%\n"
    }
   }
  },
  {
   "cell_type": "code",
   "execution_count": 3,
   "outputs": [
    {
     "name": "stdout",
     "output_type": "stream",
     "text": [
      "Futebol    5200\n",
      "Tenis       120\n",
      "dtype: int64\n"
     ]
    }
   ],
   "source": [
    "dict = {'Futebol': 5200, 'Tenis': 120}\n",
    "Obj3 = pd.Series(dict)\n",
    "print(Obj3)"
   ],
   "metadata": {
    "collapsed": false,
    "pycharm": {
     "name": "#%%\n"
    }
   }
  },
  {
   "cell_type": "code",
   "execution_count": null,
   "outputs": [],
   "source": [
    "esportes = ['Futebol', 'Tenis', 'Natação']"
   ],
   "metadata": {
    "collapsed": false,
    "pycharm": {
     "name": "#%%\n"
    }
   }
  },
  {
   "cell_type": "markdown",
   "source": [
    "Dataframes com pandas"
   ],
   "metadata": {
    "collapsed": false,
    "pycharm": {
     "name": "#%% md\n"
    }
   }
  },
  {
   "cell_type": "code",
   "execution_count": 21,
   "outputs": [
    {
     "name": "stdout",
     "output_type": "stream",
     "text": [
      "           Estado   Ano  População\n",
      "0  Santa Catarina  2002       20.4\n",
      "1          Paraná  2003       20.5\n",
      "2           Goiás  2004       10.4\n",
      "3           Bahia  2005       11.4\n",
      "4    Minas Gerais  2006       12.4\n",
      "         Ano          Estado  População Débito\n",
      "um      2002  Santa Catarina       20.4    NaN\n",
      "dois    2003          Paraná       20.5    NaN\n",
      "três    2004           Goiás       10.4    NaN\n",
      "quatro  2005           Bahia       11.4    NaN\n",
      "cinco   2006    Minas Gerais       12.4    NaN\n",
      "um        Santa Catarina\n",
      "dois              Paraná\n",
      "três               Goiás\n",
      "quatro             Bahia\n",
      "cinco       Minas Gerais\n",
      "Name: Estado, dtype: object\n",
      "um        Santa Catarina\n",
      "dois              Paraná\n",
      "três               Goiás\n",
      "quatro             Bahia\n",
      "cinco       Minas Gerais\n",
      "Name: Estado, dtype: object\n",
      "       Ano          Estado  População Débito\n",
      "um    2002  Santa Catarina       20.4    NaN\n",
      "dois  2003          Paraná       20.5    NaN\n",
      "três  2004           Goiás       10.4    NaN\n"
     ]
    }
   ],
   "source": [
    "data = {'Estado': ['Santa Catarina', 'Paraná', 'Goiás', 'Bahia', 'Minas Gerais'],\n",
    "        'Ano': [2002, 2003, 2004, 2005, 2006],\n",
    "        'População': [20.4, 20.5, 10.4, 11.4, 12.4]}\n",
    "\n",
    "frame = pd.DataFrame(data)\n",
    "print(frame)\n",
    "\n",
    "type(frame)\n",
    "\n",
    "frame2 = pd.DataFrame(data, columns = ['Ano', 'Estado', 'População', 'Débito'],\n",
    "                                index = ['um', 'dois', 'três', 'quatro', 'cinco'])\n",
    "\n",
    "print(frame2)\n",
    "\n",
    "print(frame2['Estado'])\n",
    "\n",
    "print(frame2.Estado)\n",
    "\n",
    "print(frame2[:3])\n",
    "\n"
   ],
   "metadata": {
    "collapsed": false,
    "pycharm": {
     "name": "#%%\n"
    }
   }
  },
  {
   "cell_type": "code",
   "execution_count": 34,
   "outputs": [
    {
     "name": "stdout",
     "output_type": "stream",
     "text": [
      "         Ano          Estado  População  Débito\n",
      "um      2002  Santa Catarina       20.4     0.0\n",
      "dois    2003          Paraná       20.5     1.0\n",
      "três    2004           Goiás       10.4     2.0\n",
      "quatro  2005           Bahia       11.4     3.0\n",
      "cinco   2006    Minas Gerais       12.4     4.0\n",
      "[[2002 'Santa Catarina' 20.4 0.0]\n",
      " [2003 'Paraná' 20.5 1.0]\n",
      " [2004 'Goiás' 10.4 2.0]\n",
      " [2005 'Bahia' 11.4 3.0]\n",
      " [2006 'Minas Gerais' 12.4 4.0]]\n",
      "                Estado  População\n",
      "um      Santa Catarina       20.4\n",
      "dois            Paraná       20.5\n",
      "três             Goiás       10.4\n",
      "quatro           Bahia       11.4\n",
      "cinco     Minas Gerais       12.4\n"
     ]
    }
   ],
   "source": [
    "import numpy as np\n",
    "\n",
    "frame2['Débito'] = np.arange(5.)\n",
    "\n",
    "print(frame2)\n",
    "print(frame2.values)\n",
    "\n",
    "frame2.describe()\n",
    "\n",
    "\n",
    "print(frame2[['Estado','População']])"
   ],
   "metadata": {
    "collapsed": false,
    "pycharm": {
     "name": "#%%\n"
    }
   }
  }
 ],
 "metadata": {
  "kernelspec": {
   "display_name": "Python 3",
   "language": "python",
   "name": "python3"
  },
  "language_info": {
   "codemirror_mode": {
    "name": "ipython",
    "version": 2
   },
   "file_extension": ".py",
   "mimetype": "text/x-python",
   "name": "python",
   "nbconvert_exporter": "python",
   "pygments_lexer": "ipython2",
   "version": "2.7.6"
  }
 },
 "nbformat": 4,
 "nbformat_minor": 0
}