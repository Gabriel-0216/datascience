{
 "cells": [
  {
   "cell_type": "code",
   "execution_count": 14,
   "outputs": [
    {
     "name": "stdout",
     "output_type": "stream",
     "text": [
      "[0 1 2 3 4 5]\n",
      "[0.  0.5 1.  1.5 2.  2.5 3.  3.5 4.  4.5]\n",
      "[0. 0. 0. 0. 0. 0. 0. 0. 0. 0.]\n",
      "[[1. 0. 0.]\n",
      " [0. 1. 0.]\n",
      " [0. 0. 1.]]\n",
      "[[1 0 0 0]\n",
      " [0 2 0 0]\n",
      " [0 0 3 0]\n",
      " [0 0 0 4]]\n",
      "[1.+2.j 3.+4.j 5.+6.j]\n",
      "[ True False  True  True]\n",
      "['SQL' 'Python' 'R']\n",
      "[ 0.          0.20408163  0.40816327  0.6122449   0.81632653  1.02040816\n",
      "  1.2244898   1.42857143  1.63265306  1.83673469  2.04081633  2.24489796\n",
      "  2.44897959  2.65306122  2.85714286  3.06122449  3.26530612  3.46938776\n",
      "  3.67346939  3.87755102  4.08163265  4.28571429  4.48979592  4.69387755\n",
      "  4.89795918  5.10204082  5.30612245  5.51020408  5.71428571  5.91836735\n",
      "  6.12244898  6.32653061  6.53061224  6.73469388  6.93877551  7.14285714\n",
      "  7.34693878  7.55102041  7.75510204  7.95918367  8.16326531  8.36734694\n",
      "  8.57142857  8.7755102   8.97959184  9.18367347  9.3877551   9.59183673\n",
      "  9.79591837 10.        ]\n"
     ]
    }
   ],
   "source": [
    "import numpy as np\n",
    "np.__version__\n",
    "\n",
    "#help(np.array)\n",
    "\n",
    "#construindo um array com NumPy\n",
    "primeiroVetor = np.array([0, 1, 2, 3, 4, 5])\n",
    "print(primeiroVetor)\n",
    "type(primeiroVetor)\n",
    "\n",
    "# semelhante ao range() do python\n",
    "# args: start | stop | step\n",
    "vetorArange = np.arange(0, 5, .5)\n",
    "\n",
    "print(vetorArange)\n",
    "\n",
    "# cria um array preenchido com zeros\n",
    "print(np.zeros(10))\n",
    "\n",
    "#cria um array com o valor 1 nas posições em diagonal e 0 no restante\n",
    "z = np.eye(3)\n",
    "print(z)\n",
    "\n",
    "#Cria uma diagonal com os valores passados como argumento\n",
    "d = np.diag(np.array([1,2,3,4]))\n",
    "print(d)\n",
    "\n",
    "#array com valores complexos\n",
    "c = np.array([1+2j, 3+4j, 5+6*1j])\n",
    "print(c)\n",
    "\n",
    "arrayBoleano = np.array([True, False, True, True])\n",
    "print(arrayBoleano)\n",
    "\n",
    "\n",
    "arrayStrings = np.array(['SQL', 'Python', 'R'])\n",
    "print(arrayStrings)\n",
    "\n",
    "print(np.linspace(0, 10))\n"
   ],
   "metadata": {
    "collapsed": false,
    "pycharm": {
     "name": "#%%\n"
    }
   }
  }
 ],
 "metadata": {
  "kernelspec": {
   "display_name": "Python 3",
   "language": "python",
   "name": "python3"
  },
  "language_info": {
   "codemirror_mode": {
    "name": "ipython",
    "version": 2
   },
   "file_extension": ".py",
   "mimetype": "text/x-python",
   "name": "python",
   "nbconvert_exporter": "python",
   "pygments_lexer": "ipython2",
   "version": "2.7.6"
  }
 },
 "nbformat": 4,
 "nbformat_minor": 0
}