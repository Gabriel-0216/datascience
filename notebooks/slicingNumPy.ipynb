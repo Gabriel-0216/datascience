{
 "cells": [
  {
   "cell_type": "code",
   "execution_count": 18,
   "outputs": [
    {
     "name": "stdout",
     "output_type": "stream",
     "text": [
      "[[0 0 0]\n",
      " [0 1 0]\n",
      " [0 0 2]]\n",
      "1\n",
      "[0 1 0]\n",
      "[0 1 2 3 4 5 6 7 8 9]\n",
      "[2 5 8]\n",
      "False\n",
      "[0 1 2 3 4 5 6 7 8 9]\n"
     ]
    },
    {
     "data": {
      "text/plain": "array([1, 1, 1, 2, 2, 2, 3, 3, 3])"
     },
     "execution_count": 18,
     "metadata": {},
     "output_type": "execute_result"
    }
   ],
   "source": [
    "import numpy as np\n",
    "\n",
    "a = np.diag(np.arange(3))\n",
    "\n",
    "print(a)\n",
    "\n",
    "print(a[1,1])\n",
    "\n",
    "print(a[1])\n",
    "\n",
    "b = np.arange(10)\n",
    "print(b)\n",
    "\n",
    "#start:stop:step\n",
    "print(b[2:9:3])\n",
    "\n",
    "primeiroArray = np.array([1,2,3])\n",
    "segundoArray = np.array([3,2,1])\n",
    "\n",
    "print(np.array_equal(primeiroArray, segundoArray))\n",
    "\n",
    "\n",
    "C = b.flatten()\n",
    "print(C)\n",
    "\n",
    "\n",
    "v = np.array([1,2,3])\n",
    "v[:, np.newaxis], v[:, np.newaxis].shape, v[np.newaxis,:].shape\n",
    "\n",
    "\n",
    "#Repetiçao dos elementos do array\n",
    "np.repeat(v, 3)"
   ],
   "metadata": {
    "collapsed": false,
    "pycharm": {
     "name": "#%%\n"
    }
   }
  }
 ],
 "metadata": {
  "kernelspec": {
   "display_name": "Python 3",
   "language": "python",
   "name": "python3"
  },
  "language_info": {
   "codemirror_mode": {
    "name": "ipython",
    "version": 2
   },
   "file_extension": ".py",
   "mimetype": "text/x-python",
   "name": "python",
   "nbconvert_exporter": "python",
   "pygments_lexer": "ipython2",
   "version": "2.7.6"
  }
 },
 "nbformat": 4,
 "nbformat_minor": 0
}