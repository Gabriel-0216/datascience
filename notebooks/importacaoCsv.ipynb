{
 "cells": [
  {
   "cell_type": "code",
   "execution_count": 69,
   "metadata": {
    "collapsed": true,
    "pycharm": {
     "name": "#%%\n"
    }
   },
   "outputs": [
    {
     "data": {
      "text/plain": "                      Name            Position Title        Department  \\\n0          AARON,  ELVIA J          WATER RATE TAKER       WATER MGMNT   \n1        AARON,  JEFFERY M            POLICE OFFICER            POLICE   \n2           AARON,  KARINA            POLICE OFFICER            POLICE   \n3      AARON,  KIMBERLEI R  CHIEF CONTRACT EXPEDITER  GENERAL SERVICES   \n4      ABAD JR,  VICENTE M         CIVIL ENGINEER IV       WATER MGMNT   \n...                    ...                       ...               ...   \n32177   ZYGOWICZ,  PETER J            POLICE OFFICER            POLICE   \n32178    ZYMANTAS,  MARK E            POLICE OFFICER            POLICE   \n32179  ZYRKOWSKI,  CARLO E            POLICE OFFICER            POLICE   \n32180  ZYSKOWSKI,  DARIUSZ   CHIEF DATA BASE ANALYST              DoIT   \n32181                  NaN                       NaN               NaN   \n\n       Employee Annual Salary  \n0                     88965.0  \n1                     80778.0  \n2                     80778.0  \n3                     84780.0  \n4                    104736.0  \n...                       ...  \n32177                 86520.0  \n32178                 83616.0  \n32179                 86520.0  \n32180                110352.0  \n32181                     NaN  \n\n[32182 rows x 4 columns]",
      "text/html": "<div>\n<style scoped>\n    .dataframe tbody tr th:only-of-type {\n        vertical-align: middle;\n    }\n\n    .dataframe tbody tr th {\n        vertical-align: top;\n    }\n\n    .dataframe thead th {\n        text-align: right;\n    }\n</style>\n<table border=\"1\" class=\"dataframe\">\n  <thead>\n    <tr style=\"text-align: right;\">\n      <th></th>\n      <th>Name</th>\n      <th>Position Title</th>\n      <th>Department</th>\n      <th>Employee Annual Salary</th>\n    </tr>\n  </thead>\n  <tbody>\n    <tr>\n      <th>0</th>\n      <td>AARON,  ELVIA J</td>\n      <td>WATER RATE TAKER</td>\n      <td>WATER MGMNT</td>\n      <td>88965.0</td>\n    </tr>\n    <tr>\n      <th>1</th>\n      <td>AARON,  JEFFERY M</td>\n      <td>POLICE OFFICER</td>\n      <td>POLICE</td>\n      <td>80778.0</td>\n    </tr>\n    <tr>\n      <th>2</th>\n      <td>AARON,  KARINA</td>\n      <td>POLICE OFFICER</td>\n      <td>POLICE</td>\n      <td>80778.0</td>\n    </tr>\n    <tr>\n      <th>3</th>\n      <td>AARON,  KIMBERLEI R</td>\n      <td>CHIEF CONTRACT EXPEDITER</td>\n      <td>GENERAL SERVICES</td>\n      <td>84780.0</td>\n    </tr>\n    <tr>\n      <th>4</th>\n      <td>ABAD JR,  VICENTE M</td>\n      <td>CIVIL ENGINEER IV</td>\n      <td>WATER MGMNT</td>\n      <td>104736.0</td>\n    </tr>\n    <tr>\n      <th>...</th>\n      <td>...</td>\n      <td>...</td>\n      <td>...</td>\n      <td>...</td>\n    </tr>\n    <tr>\n      <th>32177</th>\n      <td>ZYGOWICZ,  PETER J</td>\n      <td>POLICE OFFICER</td>\n      <td>POLICE</td>\n      <td>86520.0</td>\n    </tr>\n    <tr>\n      <th>32178</th>\n      <td>ZYMANTAS,  MARK E</td>\n      <td>POLICE OFFICER</td>\n      <td>POLICE</td>\n      <td>83616.0</td>\n    </tr>\n    <tr>\n      <th>32179</th>\n      <td>ZYRKOWSKI,  CARLO E</td>\n      <td>POLICE OFFICER</td>\n      <td>POLICE</td>\n      <td>86520.0</td>\n    </tr>\n    <tr>\n      <th>32180</th>\n      <td>ZYSKOWSKI,  DARIUSZ</td>\n      <td>CHIEF DATA BASE ANALYST</td>\n      <td>DoIT</td>\n      <td>110352.0</td>\n    </tr>\n    <tr>\n      <th>32181</th>\n      <td>NaN</td>\n      <td>NaN</td>\n      <td>NaN</td>\n      <td>NaN</td>\n    </tr>\n  </tbody>\n</table>\n<p>32182 rows × 4 columns</p>\n</div>"
     },
     "execution_count": 69,
     "metadata": {},
     "output_type": "execute_result"
    }
   ],
   "source": [
    "import pandas as pd\n",
    "frame = pd.read_csv(\"../data//salarios.csv\")\n",
    "frame\n"
   ]
  },
  {
   "cell_type": "markdown",
   "source": [
    "Mostrar média do salario agrupado por função"
   ],
   "metadata": {
    "collapsed": false,
    "pycharm": {
     "name": "#%% md\n"
    }
   }
  },
  {
   "cell_type": "code",
   "execution_count": 70,
   "outputs": [
    {
     "name": "stdout",
     "output_type": "stream",
     "text": [
      "Média do salário dos funcionários\n"
     ]
    },
    {
     "data": {
      "text/plain": "Position Title\n1ST DEPUTY INSPECTOR GENERAL    137052.000000\nA/MGR COM SVC-ELECTIONS          99816.000000\nA/MGR OF MIS-ELECTIONS           94932.000000\nA/MGR WAREHOUSE-ELECTIONS        71364.000000\nA/SUPRV REDISTRICTING            57642.000000\n                                    ...      \nWINDOW WASHER                    47320.000000\nYOUTH SERVICES COORD             70567.500000\nZONING ADMINISTRATOR            139800.000000\nZONING INVESTIGATOR              97596.000000\nZONING PLAN EXAMINER             59607.428571\nName: Employee Annual Salary, Length: 1094, dtype: float64"
     },
     "execution_count": 70,
     "metadata": {},
     "output_type": "execute_result"
    }
   ],
   "source": [
    "print(\"Média do salário dos funcionários\")\n",
    "frame.groupby('Position Title')['Employee Annual Salary'].mean()"
   ],
   "metadata": {
    "collapsed": false,
    "pycharm": {
     "name": "#%%\n"
    }
   }
  },
  {
   "cell_type": "markdown",
   "source": [
    "Mostrando a quantidade de funcionários por cargo"
   ],
   "metadata": {
    "collapsed": false,
    "pycharm": {
     "name": "#%% md\n"
    }
   }
  },
  {
   "cell_type": "code",
   "execution_count": 85,
   "outputs": [
    {
     "name": "stdout",
     "output_type": "stream",
     "text": [
      "Quantidade de funcionários\n"
     ]
    },
    {
     "data": {
      "text/plain": "Position Title\nPOLICE OFFICER                            9489\nFIREFIGHTER-EMT                           1191\nSERGEANT                                  1138\nFIREFIGHTER                                970\nPOLICE OFFICER (ASSIGNED AS DETECTIVE)     808\n                                          ... \nFIRE PREVENTION ENGINEER                     1\nFIRST ASST CORPORATION COUNSEL               1\nFIRST DEPUTY BUDGET DIR                      1\nFIRST DEPUTY CHIEF ADMINISTRATOR             1\nFORENSIC AUDIT INVESTIGATOR                  1\nLength: 1094, dtype: int64"
     },
     "execution_count": 85,
     "metadata": {},
     "output_type": "execute_result"
    }
   ],
   "source": [
    "frameSemOrdenar = frame.groupby('Position Title').size()\n",
    "frameSemOrdenar.sort_values(ascending=False)\n"
   ],
   "metadata": {
    "collapsed": false,
    "pycharm": {
     "name": "#%%\n"
    }
   }
  }
 ],
 "metadata": {
  "kernelspec": {
   "display_name": "Python 3",
   "language": "python",
   "name": "python3"
  },
  "language_info": {
   "codemirror_mode": {
    "name": "ipython",
    "version": 2
   },
   "file_extension": ".py",
   "mimetype": "text/x-python",
   "name": "python",
   "nbconvert_exporter": "python",
   "pygments_lexer": "ipython2",
   "version": "2.7.6"
  }
 },
 "nbformat": 4,
 "nbformat_minor": 0
}